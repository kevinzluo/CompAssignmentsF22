{
  "nbformat": 4,
  "nbformat_minor": 0,
  "metadata": {
    "colab": {
      "provenance": [],
      "collapsed_sections": []
    },
    "kernelspec": {
      "name": "python3",
      "display_name": "Python 3"
    },
    "language_info": {
      "name": "python"
    }
  },
  "cells": [
    {
      "cell_type": "code",
      "source": [],
      "metadata": {
        "id": "P2p2BcwDO1jo"
      },
      "execution_count": null,
      "outputs": []
    },
    {
      "cell_type": "code",
      "execution_count": null,
      "metadata": {
        "id": "I74-JF659IRk"
      },
      "outputs": [],
      "source": [
        "# Imports\n",
        "\n",
        "import requests\n",
        "from bs4 import BeautifulSoup\n",
        "import pandas as pd\n",
        "# from bokeh.io import output_notebook\n",
        "# output_notebook()\n",
        "# bokeh_width, bokeh_height = 500,400\n",
        "from typing import List"
      ]
    },
    {
      "cell_type": "code",
      "source": [
        "# Clean the data\n",
        "def dataCleanse(spacey_arr: List[str]):\n",
        "  ret_str = []\n",
        "  for k in spacey_arr:\n",
        "    if k != '':\n",
        "      ret_str.append(k)\n",
        "  return ret_str"
      ],
      "metadata": {
        "id": "SyMtfuSDAszl"
      },
      "execution_count": null,
      "outputs": []
    },
    {
      "cell_type": "code",
      "source": [
        "PAGES = 10\n",
        "prof_info = []\n",
        "\n",
        "for p in range(PAGES):\n",
        "  URL = \"https://www.seas.harvard.edu/faculty?sort_by=field_last_name&page=%2C\" + str(p)\n",
        "  page = requests.get(URL)\n",
        "\n",
        "  soup = BeautifulSoup(page.content, 'html.parser')\n",
        "  results = soup.find_all(class_=\"views-row\")\n",
        "\n",
        "  for i in range(1, len(results)):\n",
        "    items = results[i].text.strip().split(\"\\n\")\n",
        "    prof_info.append(dataCleanse(items))\n",
        "  \n"
      ],
      "metadata": {
        "id": "60IraxYK_ogC"
      },
      "execution_count": null,
      "outputs": []
    },
    {
      "cell_type": "code",
      "source": [
        "# Cool Visualization of Prof Breakdown\n",
        "roles = [\"Non-Tenured Faculty\", \"Assoc. Professor\", \"Ass Professor\", \"Professor\", \"Administration\"]\n",
        "titles = [\"Preceptor\", \"Fellow\", \"Scholar\", \"Lecturer\", \"Associate in\", \"Associate Professor\", \"Assistant Professor\", \"Professor\", \"Director\"]\n",
        "ticks = [0 for _ in range(len(roles))]\n",
        "\n",
        "for prof in prof_info:\n",
        "  for t in range(len(titles)):\n",
        "    if titles[t] in prof[1]:\n",
        "      if t < 5:\n",
        "        ticks[0] += 1\n",
        "      else:\n",
        "        ticks[t-4] += 1\n",
        "      break\n",
        "\n",
        "print(ticks)"
      ],
      "metadata": {
        "colab": {
          "base_uri": "https://localhost:8080/"
        },
        "id": "xY5lC800_pvD",
        "outputId": "fbb3daeb-a1b2-4658-c4c7-91dff7835e63"
      },
      "execution_count": null,
      "outputs": [
        {
          "output_type": "stream",
          "name": "stdout",
          "text": [
            "[39, 6, 19, 107, 9]\n"
          ]
        }
      ]
    },
    {
      "cell_type": "code",
      "source": [
        "# Job Breakdown\n",
        "\n",
        "import matplotlib.pyplot as plt\n",
        "fig = plt.figure(figsize = (10, 5))\n",
        " \n",
        "# creating the bar plot\n",
        "plt.bar(roles, ticks, color ='maroon', width = 0.4)\n",
        " \n",
        "plt.ylabel(\"Number\")\n",
        "plt.title(\"Faculty in SEAS Breakdown\")\n",
        "plt.show()\n"
      ],
      "metadata": {
        "colab": {
          "base_uri": "https://localhost:8080/",
          "height": 336
        },
        "id": "TEoW39LVAK81",
        "outputId": "9e886d00-73dc-476d-ede3-ab87029ede77"
      },
      "execution_count": null,
      "outputs": [
        {
          "output_type": "display_data",
          "data": {
            "text/plain": [
              "<Figure size 720x360 with 1 Axes>"
            ],
            "image/png": "[encoded data removed]"
          },
          "metadata": {
            "needs_background": "light"
          }
        }
      ]
    },
    {
      "cell_type": "code",
      "source": [
        "\n"
      ],
      "metadata": {
        "id": "DnlxXD9fSKrj"
      },
      "execution_count": null,
      "outputs": []
    }
  ]
}