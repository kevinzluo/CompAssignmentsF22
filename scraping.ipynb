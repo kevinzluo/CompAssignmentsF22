{
  "nbformat": 4,
  "nbformat_minor": 0,
  "metadata": {
    "colab": {
      "provenance": [],
      "collapsed_sections": []
    },
    "kernelspec": {
      "name": "python3",
      "display_name": "Python 3"
    },
    "language_info": {
      "name": "python"
    }
  },
  "cells": [
    {
      "cell_type": "code",
      "execution_count": 1,
      "metadata": {
        "id": "ZZRtTmxM5cTc"
      },
      "outputs": [],
      "source": [
        "import numpy as np\n",
        "import pandas"
      ]
    },
    {
      "cell_type": "code",
      "source": [
        "import requests\n",
        "from bs4 import BeautifulSoup"
      ],
      "metadata": {
        "id": "RAHnohyf5hxi"
      },
      "execution_count": 22,
      "outputs": []
    },
    {
      "cell_type": "code",
      "source": [
        "URL = \"https://wgs.fas.harvard.edu/people/people-terms/faculty\"\n",
        "page = requests.get(URL)\n",
        "\n",
        "data = {}\n",
        "\n",
        "soup = BeautifulSoup(page.content, 'html.parser')\n",
        "rezzies = soup.find_all('a', class_=\"node-readmore\", href=True)\n",
        "\n",
        "j = 0\n",
        "temp = []\n",
        "data = []\n",
        "for rezzie in rezzies:\n",
        "    print(rezzie['href'])\n",
        "    temp.append(rezzie['href'])\n",
        "    j += 1\n",
        "\n",
        "soup = BeautifulSoup(page.content, 'html.parser')\n",
        "names = (soup.find_all('h1', class_=\"node-title\"))\n",
        "\n",
        "i = 0\n",
        "for n in names:\n",
        "  data.append({\"name\": n.text.strip(), \"url\": temp[i]})\n",
        "  print(n.text.strip())\n",
        "  i+=1\n",
        "\n",
        "print(data)\n",
        "  \n",
        "\n",
        "print(i)\n",
        "print(j)"
      ],
      "metadata": {
        "colab": {
          "base_uri": "https://localhost:8080/"
        },
        "id": "me8h1tzC5qU3",
        "outputId": "c86f47b5-c177-4f6d-e8aa-668b6d095dc2"
      },
      "execution_count": 76,
      "outputs": [
        {
          "output_type": "stream",
          "name": "stdout",
          "text": [
            "https://wgs.fas.harvard.edu/people/robert-reid-pharr\n",
            "https://wgs.fas.harvard.edu/people/kendra-albert\n",
            "https://wgs.fas.harvard.edu/people/robin-bernstein\n",
            "https://wgs.fas.harvard.edu/people/michael-bronski\n",
            "https://wgs.fas.harvard.edu/people/jung-ja-choi\n",
            "https://wgs.fas.harvard.edu/people/thomas-conners\n",
            "https://wgs.fas.harvard.edu/people/katherine-gibson\n",
            "https://wgs.fas.harvard.edu/people/alice-jardine\n",
            "https://wgs.fas.harvard.edu/people/caroline-light\n",
            "https://wgs.fas.harvard.edu/people/durba-mitra\n",
            "https://wgs.fas.harvard.edu/people/marya-mtshali\n",
            "https://wgs.fas.harvard.edu/people/nicole-noll\n",
            "https://wgs.fas.harvard.edu/people/sarah-richardson\n",
            "https://wgs.fas.harvard.edu/people/linda-schlossberg\n",
            "https://wgs.fas.harvard.edu/people/phyllis-thompson\n",
            "Robert  Fitzgerald Reid-Pharr\n",
            "Kendra Albert\n",
            "Robin Bernstein\n",
            "Michael Bronski\n",
            "Jung Ja  Choi\n",
            "Thomas Conners\n",
            "Katherine Gibson\n",
            "Alice Jardine\n",
            "Caroline Light\n",
            "Durba Mitra\n",
            "Marya T. Mtshali\n",
            "Nicole Noll\n",
            "Sarah Richardson\n",
            "Linda Schlossberg\n",
            "Phyllis Thompson\n",
            "[{'name': 'Robert  Fitzgerald Reid-Pharr', 'url': 'https://wgs.fas.harvard.edu/people/robert-reid-pharr'}, {'name': 'Kendra Albert', 'url': 'https://wgs.fas.harvard.edu/people/kendra-albert'}, {'name': 'Robin Bernstein', 'url': 'https://wgs.fas.harvard.edu/people/robin-bernstein'}, {'name': 'Michael Bronski', 'url': 'https://wgs.fas.harvard.edu/people/michael-bronski'}, {'name': 'Jung Ja  Choi', 'url': 'https://wgs.fas.harvard.edu/people/jung-ja-choi'}, {'name': 'Thomas Conners', 'url': 'https://wgs.fas.harvard.edu/people/thomas-conners'}, {'name': 'Katherine Gibson', 'url': 'https://wgs.fas.harvard.edu/people/katherine-gibson'}, {'name': 'Alice Jardine', 'url': 'https://wgs.fas.harvard.edu/people/alice-jardine'}, {'name': 'Caroline Light', 'url': 'https://wgs.fas.harvard.edu/people/caroline-light'}, {'name': 'Durba Mitra', 'url': 'https://wgs.fas.harvard.edu/people/durba-mitra'}, {'name': 'Marya T. Mtshali', 'url': 'https://wgs.fas.harvard.edu/people/marya-mtshali'}, {'name': 'Nicole Noll', 'url': 'https://wgs.fas.harvard.edu/people/nicole-noll'}, {'name': 'Sarah Richardson', 'url': 'https://wgs.fas.harvard.edu/people/sarah-richardson'}, {'name': 'Linda Schlossberg', 'url': 'https://wgs.fas.harvard.edu/people/linda-schlossberg'}, {'name': 'Phyllis Thompson', 'url': 'https://wgs.fas.harvard.edu/people/phyllis-thompson'}]\n",
            "15\n",
            "15\n"
          ]
        }
      ]
    },
    {
      "cell_type": "code",
      "source": [],
      "metadata": {
        "colab": {
          "base_uri": "https://localhost:8080/"
        },
        "id": "z5nrlBNX0VPy",
        "outputId": "961ac914-13c0-4d51-f2b5-ed3acc7945bb"
      },
      "execution_count": 31,
      "outputs": [
        {
          "output_type": "stream",
          "name": "stdout",
          "text": [
            "[None, None, None, None, None, None, None, None, None, None, None, None, None]\n"
          ]
        }
      ]
    },
    {
      "cell_type": "code",
      "source": [
        "print(rezzies[0].text.strip())\n",
        "results[0].get_text()\n",
        "results[0].get('strong')"
      ],
      "metadata": {
        "id": "Oj91M1ya6amS",
        "colab": {
          "base_uri": "https://localhost:8080/"
        },
        "outputId": "3f74185d-9dcc-4d40-8f5e-fb84ffd2b5fd"
      },
      "execution_count": 72,
      "outputs": [
        {
          "output_type": "stream",
          "name": "stdout",
          "text": [
            "Read more  about Robert  Fitzgerald Reid-Pharr\n"
          ]
        }
      ]
    },
    {
      "cell_type": "code",
      "source": [
        "print(results[0])"
      ],
      "metadata": {
        "colab": {
          "base_uri": "https://localhost:8080/"
        },
        "id": "A0XyGZwq-A1D",
        "outputId": "e1d9a564-a9b3-4839-ec54-ae131842f2f0"
      },
      "execution_count": 4,
      "outputs": [
        {
          "output_type": "stream",
          "name": "stdout",
          "text": [
            "<div class=\"pic-bio clearfix\"><div class=\"field field-name-field-professional-title field-type-text field-label-hidden view-mode-teaser\"><div class=\"field-items\"><div class=\"field-item even\">Chair<br/>Professor of Studies of Women, Gender, and Sexuality<br/>Professor of African and African American Studies</div></div></div><div class=\"field field-name-body field-type-text-with-summary field-label-hidden view-mode-teaser\"><div class=\"field-items\"><div class=\"field-item even\"><p style=\"text-align:left\">\n",
            "<strong>Pronouns: he/him/his and sundry</strong>\n",
            "</p>\n",
            "<p style=\"text-align:left\">\n",
            "<span><span>Robert F. Reid-Pharr is Chair of Studies of Women, Gender, and Sexuality and Professor of African and African American Studies at Harvard University.  </span></span>\n",
            "</p>\n",
            "<p>... <a class=\"node-readmore\" href=\"https://wgs.fas.harvard.edu/people/robert-reid-pharr\">Read more <span class=\"element-invisible\"> about Robert  Fitzgerald Reid-Pharr</span></a></p></div></div></div><div class=\"field field-name-field-website field-type-link-field field-label-hidden view-mode-teaser\"><div class=\"field-items\"><div class=\"field-item even\"><a href=\"https://wgs.fas.harvard.edu/hours\" title=\"Robert  Fitzgerald Reid-Pharr's website\">Office Hours</a></div></div></div></div>\n"
          ]
        }
      ]
    },
    {
      "cell_type": "code",
      "source": [
        "results[1]"
      ],
      "metadata": {
        "colab": {
          "base_uri": "https://localhost:8080/"
        },
        "id": "JYo-tkb5_3Ob",
        "outputId": "f71318bb-9a8d-426a-abd0-644cf0801583"
      },
      "execution_count": 7,
      "outputs": [
        {
          "output_type": "execute_result",
          "data": {
            "text/plain": [
              "<div class=\"pic-bio clearfix\"><div class=\"field field-name-field-professional-title field-type-text field-label-hidden view-mode-teaser\"><div class=\"field-items\"><div class=\"field-item even\">Lecturer on Studies of Women, Gender, and Sexuality -- Fall 2022</div></div></div><div class=\"field field-name-body field-type-text-with-summary field-label-hidden view-mode-teaser\"><div class=\"field-items\"><div class=\"field-item even\"><p>\n",
              "\tKendra Albert is a clinical instructor at the Harvard Cyberlaw Clinic at the Berkman Klein Center for Internet and Society, where they teach students how to practice technology law by working with pro bono clients.... <a class=\"node-readmore\" href=\"https://wgs.fas.harvard.edu/people/kendra-albert\">Read more <span class=\"element-invisible\"> about Kendra Albert</span></a></p></div></div></div></div>"
            ]
          },
          "metadata": {},
          "execution_count": 7
        }
      ]
    },
    {
      "cell_type": "code",
      "source": [
        "print(results[1])"
      ],
      "metadata": {
        "colab": {
          "base_uri": "https://localhost:8080/"
        },
        "id": "QD7nJVSc_-gK",
        "outputId": "a638ec3c-e809-4639-ff4c-ab6fb52372db"
      },
      "execution_count": 8,
      "outputs": [
        {
          "output_type": "stream",
          "name": "stdout",
          "text": [
            "<div class=\"pic-bio clearfix\"><div class=\"field field-name-field-professional-title field-type-text field-label-hidden view-mode-teaser\"><div class=\"field-items\"><div class=\"field-item even\">Lecturer on Studies of Women, Gender, and Sexuality -- Fall 2022</div></div></div><div class=\"field field-name-body field-type-text-with-summary field-label-hidden view-mode-teaser\"><div class=\"field-items\"><div class=\"field-item even\"><p>\n",
            "\tKendra Albert is a clinical instructor at the Harvard Cyberlaw Clinic at the Berkman Klein Center for Internet and Society, where they teach students how to practice technology law by working with pro bono clients.... <a class=\"node-readmore\" href=\"https://wgs.fas.harvard.edu/people/kendra-albert\">Read more <span class=\"element-invisible\"> about Kendra Albert</span></a></p></div></div></div></div>\n"
          ]
        }
      ]
    },
    {
      "cell_type": "code",
      "source": [
        "URL = \"https://www.math.harvard.edu/people/\"\n",
        "page = requests.get(URL)\n",
        "\n",
        "soup = BeautifulSoup(page.content, 'html.parser')\n",
        "results = soup.find_all(class_=\"name\")\n",
        "yeah = results[0].get(\"href\")"
      ],
      "metadata": {
        "id": "3rqqDdMIAdSJ"
      },
      "execution_count": 9,
      "outputs": []
    },
    {
      "cell_type": "code",
      "source": [
        "results[0].get_text();"
      ],
      "metadata": {
        "id": "cL7emjPBEBhe"
      },
      "execution_count": 10,
      "outputs": []
    },
    {
      "cell_type": "code",
      "source": [
        "print(results[0])"
      ],
      "metadata": {
        "colab": {
          "base_uri": "https://localhost:8080/",
          "height": 295
        },
        "id": "yol-GoI-Bu3j",
        "outputId": "878b637c-3878-4fc0-b765-ae00c775f197"
      },
      "execution_count": 16,
      "outputs": [
        {
          "output_type": "error",
          "ename": "KeyError",
          "evalue": "ignored",
          "traceback": [
            "\u001b[0;31m---------------------------------------------------------------------------\u001b[0m",
            "\u001b[0;31mKeyError\u001b[0m                                  Traceback (most recent call last)",
            "\u001b[0;32m<ipython-input-16-6b28554bfb6c>\u001b[0m in \u001b[0;36m<module>\u001b[0;34m\u001b[0m\n\u001b[0;32m----> 1\u001b[0;31m \u001b[0mprint\u001b[0m\u001b[0;34m(\u001b[0m\u001b[0mresults\u001b[0m\u001b[0;34m[\u001b[0m\u001b[0;36m0\u001b[0m\u001b[0;34m]\u001b[0m\u001b[0;34m[\u001b[0m\u001b[0;36m1\u001b[0m\u001b[0;34m]\u001b[0m\u001b[0;34m)\u001b[0m\u001b[0;34m\u001b[0m\u001b[0;34m\u001b[0m\u001b[0m\n\u001b[0m",
            "\u001b[0;32m/usr/local/lib/python3.7/dist-packages/bs4/element.py\u001b[0m in \u001b[0;36m__getitem__\u001b[0;34m(self, key)\u001b[0m\n\u001b[1;32m   1069\u001b[0m         \"\"\"tag[key] returns the value of the 'key' attribute for the tag,\n\u001b[1;32m   1070\u001b[0m         and throws an exception if it's not there.\"\"\"\n\u001b[0;32m-> 1071\u001b[0;31m         \u001b[0;32mreturn\u001b[0m \u001b[0mself\u001b[0m\u001b[0;34m.\u001b[0m\u001b[0mattrs\u001b[0m\u001b[0;34m[\u001b[0m\u001b[0mkey\u001b[0m\u001b[0;34m]\u001b[0m\u001b[0;34m\u001b[0m\u001b[0;34m\u001b[0m\u001b[0m\n\u001b[0m\u001b[1;32m   1072\u001b[0m \u001b[0;34m\u001b[0m\u001b[0m\n\u001b[1;32m   1073\u001b[0m     \u001b[0;32mdef\u001b[0m \u001b[0m__iter__\u001b[0m\u001b[0;34m(\u001b[0m\u001b[0mself\u001b[0m\u001b[0;34m)\u001b[0m\u001b[0;34m:\u001b[0m\u001b[0;34m\u001b[0m\u001b[0;34m\u001b[0m\u001b[0m\n",
            "\u001b[0;31mKeyError\u001b[0m: 1"
          ]
        }
      ]
    },
    {
      "cell_type": "code",
      "source": [],
      "metadata": {
        "colab": {
          "base_uri": "https://localhost:8080/",
          "height": 169
        },
        "id": "GPBEodJwB3Jn",
        "outputId": "105cfc27-f470-4bd2-f806-26cf5efa3b01"
      },
      "execution_count": null,
      "outputs": [
        {
          "output_type": "error",
          "ename": "TypeError",
          "evalue": "ignored",
          "traceback": [
            "\u001b[0;31m---------------------------------------------------------------------------\u001b[0m",
            "\u001b[0;31mTypeError\u001b[0m                                 Traceback (most recent call last)",
            "\u001b[0;32m<ipython-input-43-dd3349393f4f>\u001b[0m in \u001b[0;36m<module>\u001b[0;34m\u001b[0m\n\u001b[0;32m----> 1\u001b[0;31m \u001b[0;34m[\u001b[0m\u001b[0mprint\u001b[0m\u001b[0;34m(\u001b[0m\u001b[0mx\u001b[0m\u001b[0;34m)\u001b[0m \u001b[0;32mfor\u001b[0m \u001b[0mx\u001b[0m \u001b[0;32min\u001b[0m \u001b[0myeah\u001b[0m\u001b[0;34m]\u001b[0m\u001b[0;34m\u001b[0m\u001b[0;34m\u001b[0m\u001b[0m\n\u001b[0m",
            "\u001b[0;31mTypeError\u001b[0m: 'NoneType' object is not iterable"
          ]
        }
      ]
    },
    {
      "cell_type": "code",
      "source": [],
      "metadata": {
        "id": "HV6Jj9vLDJo1"
      },
      "execution_count": null,
      "outputs": []
    }
  ]
}